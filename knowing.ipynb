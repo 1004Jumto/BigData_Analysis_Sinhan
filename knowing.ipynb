{
 "cells": [
  {
   "cell_type": "code",
   "execution_count": 50,
   "metadata": {},
   "outputs": [],
   "source": [
    "import pandas as pd\n",
    "import matplotlib.pyplot as plt\n",
    "import numpy as np\n"
   ]
  },
  {
   "cell_type": "code",
   "execution_count": 1,
   "metadata": {},
   "outputs": [
    {
     "ename": "NameError",
     "evalue": "name 'pd' is not defined",
     "output_type": "error",
     "traceback": [
      "\u001b[1;31m---------------------------------------------------------------------------\u001b[0m",
      "\u001b[1;31mNameError\u001b[0m                                 Traceback (most recent call last)",
      "\u001b[1;32mc:\\STUDY\\4학기\\BigData_Analysis_Sinhan\\knowing.ipynb 셀 2\u001b[0m in \u001b[0;36m<cell line: 1>\u001b[1;34m()\u001b[0m\n\u001b[1;32m----> <a href='vscode-notebook-cell:/c%3A/STUDY/4%ED%95%99%EA%B8%B0/BigData_Analysis_Sinhan/knowing.ipynb#W1sZmlsZQ%3D%3D?line=0'>1</a>\u001b[0m df \u001b[39m=\u001b[39m pd\u001b[39m.\u001b[39mread_csv(\u001b[39m\"\u001b[39m\u001b[39m./data_055.csv\u001b[39m\u001b[39m\"\u001b[39m, encoding\u001b[39m=\u001b[39m\u001b[39m\"\u001b[39m\u001b[39mcp949\u001b[39m\u001b[39m\"\u001b[39m)\n\u001b[0;32m      <a href='vscode-notebook-cell:/c%3A/STUDY/4%ED%95%99%EA%B8%B0/BigData_Analysis_Sinhan/knowing.ipynb#W1sZmlsZQ%3D%3D?line=2'>3</a>\u001b[0m df\n",
      "\u001b[1;31mNameError\u001b[0m: name 'pd' is not defined"
     ]
    }
   ],
   "source": [
    "df = pd.read_csv(\"./data_055.csv\", encoding=\"cp949\")\n",
    "\n",
    "df"
   ]
  },
  {
   "cell_type": "code",
   "execution_count": 20,
   "metadata": {},
   "outputs": [
    {
     "data": {
      "text/plain": [
       "Index(['P1', 'P2', 'P3', 'P4', 'P5', 'P6', 'P7', 'B1', 'B2', 'B3',\n",
       "       ...\n",
       "       'B165', 'B166', 'B167', 'C1', 'E1', 'E2', 'E3', 'E4', 'E5', 'E6'],\n",
       "      dtype='object', length=181)"
      ]
     },
     "execution_count": 20,
     "metadata": {},
     "output_type": "execute_result"
    }
   ],
   "source": [
    "df.keys()"
   ]
  },
  {
   "cell_type": "code",
   "execution_count": 26,
   "metadata": {},
   "outputs": [
    {
     "data": {
      "image/png": "[encoded data removed]",
      "text/plain": [
       "<Figure size 640x480 with 1 Axes>"
      ]
     },
     "metadata": {},
     "output_type": "display_data"
    }
   ],
   "source": [
    "# 성별\n",
    "male = 0\n",
    "female = 0\n",
    "\n",
    "for i in df.index.tolist():\n",
    "    if df.loc[i, \"P1\"] == \"F\":\n",
    "        female += 1\n",
    "    else:\n",
    "        male += 1\n",
    "    \n",
    "\n",
    "x = np.arange(2)\n",
    "x_axis = ['male', 'female']\n",
    "y_axis = [male, female]\n",
    "\n",
    "plt.bar(x, y_axis)\n",
    "plt.xticks(x, x_axis)\n",
    "\n",
    "plt.show()"
   ]
  },
  {
   "cell_type": "code",
   "execution_count": 31,
   "metadata": {},
   "outputs": [
    {
     "data": {
      "image/png": "[encoded data removed]",
      "text/plain": [
       "<Figure size 640x480 with 1 Axes>"
      ]
     },
     "metadata": {},
     "output_type": "display_data"
    }
   ],
   "source": [
    "# 고객 이용 연령층\n",
    "early_20s = 0\n",
    "lately_20s = 0\n",
    "early_30s = 0\n",
    "lately_30s = 0\n",
    "early_40s = 0\n",
    "lately_40s = 0\n",
    "early_50s = 0\n",
    "lately_50s = 0\n",
    "early_60s = 0\n",
    "lately_60s = 0\n",
    "else_thing = 0\n",
    "\n",
    "for i in df.index.tolist():\n",
    "    if (df.loc[i, \"P2\"] == \"20대_초\"):\n",
    "        early_20s += 1\n",
    "    elif (df.loc[i, \"P2\"] == \"20대_후\"):\n",
    "        lately_20s += 1\n",
    "    elif (df.loc[i, \"P2\"] == \"30대_초\"):\n",
    "        early_30s += 1\n",
    "    elif (df.loc[i, \"P2\"] == \"30대_후\"):\n",
    "        lately_30s += 1\n",
    "    elif (df.loc[i, \"P2\"] == \"40대_초\"):\n",
    "        early_40s += 1\n",
    "    elif (df.loc[i, \"P2\"] == \"40대_후\"):\n",
    "        lately_40s += 1\n",
    "    elif (df.loc[i, \"P2\"] == \"50대_초\"):\n",
    "        early_50s += 1\n",
    "    elif (df.loc[i, \"P2\"] == \"50대_후\"):\n",
    "        early_50s += 1\n",
    "    elif (df.loc[i, \"P2\"] == \"60대_초\"):\n",
    "        early_60s += 1\n",
    "    elif (df.loc[i, \"P2\"] == \"60대_후\"):\n",
    "        lately_60s += 1\n",
    "    else:\n",
    "        else_thing += 1\n",
    "\n",
    "x = np.arange(10)\n",
    "x_axis = ['20s_1', '20s_2', '30s_1', '30s_2', '40s_1', '40s_2', '50s_1', '50s_2', '60s_1', '60s_2']\n",
    "y_axis = [early_20s, lately_20s, early_30s, lately_30s, early_40s, lately_40s, early_50s, lately_50s, early_60s, lately_60s]\n",
    "\n",
    "plt.bar(x, y_axis)\n",
    "plt.xticks(x, x_axis)\n",
    "\n",
    "plt.show()"
   ]
  },
  {
   "cell_type": "code",
   "execution_count": 48,
   "metadata": {},
   "outputs": [],
   "source": [
    "# 고객 연령층 * 성별\n",
    "early_20s_male = 0\n",
    "lately_20s_male = 0\n",
    "early_30s_male = 0\n",
    "lately_30s_male = 0\n",
    "early_40s_male = 0\n",
    "lately_40s_male = 0\n",
    "early_50s_male = 0\n",
    "lately_50s_male = 0\n",
    "early_60s_male = 0\n",
    "lately_60s_male = 0\n",
    "\n",
    "early_20s_female = 0\n",
    "lately_20s_female = 0\n",
    "early_30s_female = 0\n",
    "lately_30s_female = 0\n",
    "early_40s_female = 0\n",
    "lately_40s_female = 0\n",
    "early_50s_female = 0\n",
    "lately_50s_female = 0\n",
    "early_60s_female = 0\n",
    "lately_60s_female = 0\n",
    "\n",
    "\n",
    "for i in df.index.tolist():\n",
    "    if ((df.loc[i, \"P2\"] == \"20대_초\") and (df.loc[i, \"P1\"] == \"M\")):\n",
    "        early_20s_male += 1\n",
    "    elif ((df.loc[i, \"P2\"] == \"20대_초\") and (df.loc[i, \"P1\"] == \"F\")):\n",
    "        early_20s_female += 1\n",
    "    elif ((df.loc[i, \"P2\"] == \"20대_후\") and (df.loc[i, \"P1\"] == \"M\")):\n",
    "        lately_20s_male += 1\n",
    "    elif ((df.loc[i, \"P2\"] == \"20대_후\") and (df.loc[i, \"P1\"] == \"F\")):\n",
    "        lately_20s_female += 1\n",
    "    elif ((df.loc[i, \"P2\"] == \"30대_초\") and (df.loc[i, \"P1\"] == \"M\")):\n",
    "        early_30s_male += 1\n",
    "    elif ((df.loc[i, \"P2\"] == \"30대_초\") and (df.loc[i, \"P1\"] == \"F\")):\n",
    "        early_30s_female += 1\n",
    "    elif ((df.loc[i, \"P2\"] == \"30대_후\") and (df.loc[i, \"P1\"] == \"M\")):\n",
    "        lately_30s_male += 1\n",
    "    elif ((df.loc[i, \"P2\"] == \"30대_후\") and (df.loc[i, \"P1\"] == \"F\")):\n",
    "        lately_30s_female += 1\n",
    "    elif ((df.loc[i, \"P2\"] == \"40대_초\") and (df.loc[i, \"P1\"] == \"M\")):\n",
    "        early_40s_male += 1\n",
    "    elif ((df.loc[i, \"P2\"] == \"40대_초\") and (df.loc[i, \"P1\"] == \"F\")):\n",
    "        early_40s_female += 1\n",
    "    elif ((df.loc[i, \"P2\"] == \"40대_후\") and (df.loc[i, \"P1\"] == \"M\")):\n",
    "        lately_40s_male += 1\n",
    "    elif ((df.loc[i, \"P2\"] == \"40대_후\") and (df.loc[i, \"P1\"] == \"F\")):\n",
    "        lately_40s_female += 1\n",
    "    elif ((df.loc[i, \"P2\"] == \"50대_초\") and (df.loc[i, \"P1\"] == \"M\")):\n",
    "        early_50s_male += 1\n",
    "    elif ((df.loc[i, \"P2\"] == \"50대_초\") and (df.loc[i, \"P1\"] == \"F\")):\n",
    "        early_50s_female += 1\n",
    "    elif ((df.loc[i, \"P2\"] == \"50대_후\") and (df.loc[i, \"P1\"] == \"M\")):\n",
    "        lately_50s_male += 1\n",
    "    elif ((df.loc[i, \"P2\"] == \"50대_후\") and (df.loc[i, \"P1\"] == \"F\")):\n",
    "        lately_50s_female += 1\n",
    "    elif ((df.loc[i, \"P2\"] == \"60대_초\") and (df.loc[i, \"P1\"] == \"M\")):\n",
    "        early_60s_male += 1\n",
    "    elif ((df.loc[i, \"P2\"] == \"60대_초\") and (df.loc[i, \"P1\"] == \"F\")):\n",
    "        early_60s_female += 1\n",
    "    elif ((df.loc[i, \"P2\"] == \"60대_후\") and (df.loc[i, \"P1\"] == \"M\")):\n",
    "        lately_60s_male += 1\n",
    "    elif ((df.loc[i, \"P2\"] == \"60대_후\") and (df.loc[i, \"P1\"] == \"F\")):\n",
    "        lately_60s_female += 1\n",
    "        \n",
    "    "
   ]
  },
  {
   "cell_type": "code",
   "execution_count": 49,
   "metadata": {},
   "outputs": [
    {
     "data": {
      "image/png": "[encoded data removed]",
      "text/plain": [
       "<Figure size 1000x800 with 1 Axes>"
      ]
     },
     "metadata": {},
     "output_type": "display_data"
    }
   ],
   "source": [
    "x = np.arange(20)\n",
    "x_axis = ['20s_1M', '20s_1F', '20s_2M', '20s_2F','30s_1M', '30s_1F', '30s_2M', '30s_2F', '40s_1M', '40s_1F', '40s_2M', '40s_2F', '50s_1M', '50s_1F', '50s_2M', '50s_2F', '60s_1M', '60s_1F', '60s_2M', '60s_2F']\n",
    "y_axis = [early_20s_male, early_20s_female, lately_20s_male, lately_20s_female, early_30s_male, early_30s_female, lately_30s_male, lately_30s_female, early_40s_male, early_40s_female, lately_40s_male, lately_40s_female, early_50s_male, early_50s_female, lately_50s_male, lately_50s_female, early_60s_male, early_60s_female, lately_60s_male, lately_60s_female]\n",
    "\n",
    "plt.figure(figsize=(10, 8))\n",
    "plt.bar(x_axis, y_axis, color=['blue', 'red'], width=0.8)\n",
    "plt.xticks(fontsize=6)\n",
    "\n",
    "plt.show()"
   ]
  },
  {
   "cell_type": "code",
   "execution_count": null,
   "metadata": {},
   "outputs": [],
   "source": []
  },
  {
   "cell_type": "code",
   "execution_count": null,
   "metadata": {},
   "outputs": [],
   "source": []
  },
  {
   "cell_type": "code",
   "execution_count": null,
   "metadata": {},
   "outputs": [],
   "source": []
  },
  {
   "cell_type": "code",
   "execution_count": null,
   "metadata": {},
   "outputs": [],
   "source": []
  },
  {
   "cell_type": "code",
   "execution_count": null,
   "metadata": {},
   "outputs": [],
   "source": []
  },
  {
   "cell_type": "code",
   "execution_count": null,
   "metadata": {},
   "outputs": [],
   "source": []
  },
  {
   "cell_type": "code",
   "execution_count": null,
   "metadata": {},
   "outputs": [],
   "source": []
  },
  {
   "cell_type": "code",
   "execution_count": null,
   "metadata": {},
   "outputs": [],
   "source": []
  }
 ],
 "metadata": {
  "kernelspec": {
   "display_name": "Python 3.10.3 64-bit",
   "language": "python",
   "name": "python3"
  },
  "language_info": {
   "codemirror_mode": {
    "name": "ipython",
    "version": 3
   },
   "file_extension": ".py",
   "mimetype": "text/x-python",
   "name": "python",
   "nbconvert_exporter": "python",
   "pygments_lexer": "ipython3",
   "version": "3.10.3"
  },
  "orig_nbformat": 4,
  "vscode": {
   "interpreter": {
    "hash": "fb4569285eef3a3450cb62085a5b1e0da4bce0af555edc33dcf29baf3acc1368"
   }
  }
 },
 "nbformat": 4,
 "nbformat_minor": 2
}
